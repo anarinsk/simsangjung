{
 "cells": [
  {
   "cell_type": "markdown",
   "metadata": {},
   "source": [
    "# Preface  \n",
    "\n",
    "* 노트북의 원자료는 [anarinsk/simsangjung](https://github.com/anarinsk/simsangjung)에서 찾으실 수 있습니다. \n",
    "    * 심상정 의원이 블로그에 공개적으로 올리신 내용이므로 큰 문제는 없으리라고 봅니다. \n",
    "* 아래 내용은 허락 없이 자유롭게 활용하시되, 활용하실 때 출처를 밝혀주시기 바랍니다. \n",
    "    * 오류가 발생했을 때 제가 책임을 지기 위한 것입니다. \n",
    "* 원자료 외 나머지 분석 내용과 관련한 잠재적 오류에 관한 책임은 온전히 저에게 있습니다. \n",
    "* 혹시 더 궁금하신 것이 있으신 분은 [이메일](anarinsk@gmail.com)로 연락주시면 됩니다. \n",
    "\n",
    "## Update history \n",
    "\n",
    "* (2018-09-04) 존경하는 최모 박사님께서 소득 분배에서 분위 개념을 알려주셔서 수정했습니다. 분위가 높을수록 높은 순위, 즉 고소득입니다. 이에 맞게 인덱스를 수정했습니다. "
   ]
  },
  {
   "cell_type": "markdown",
   "metadata": {},
   "source": [
    "# Preprocess Data \n",
    "\n",
    "* 이 섹션에서는 데이터 전처리를 다룬다. 별로 복잡한 코드는 없으므로 코드에 대한 설명을 생략하도록 하겠다.\n",
    "* 마지막에 최종 결과를 DataFrame으로 남긴다.  \n",
    "    * pivot style &rarr; `make_full_df(False)`\n",
    "    * melt style &rarr; `make_full_df(True)`\n",
    "    * 깃허브 리포 [csv](https://github.com/anarinsk/simsangjung/tree/master/csv)에 두 개의 결과를 저장해 두었다. 필요하신 분은 다운로드 받아서 쓰면 된다. \n",
    "* 본 분석에서 데이터는 깃허브에서 바로 가져온다. 만일 클로닝해서 로컬 PC에서 실행하고 싶다면 아래 코드를 적절하게 바꾸면 된다.  "
   ]
  },
  {
   "cell_type": "code",
   "execution_count": 1,
   "metadata": {},
   "outputs": [],
   "source": [
    "# Import packages \n",
    "import pandas as pd \n",
    "import numpy as np \n",
    "import os\n",
    "from pathlib import Path "
   ]
  },
  {
   "cell_type": "code",
   "execution_count": 2,
   "metadata": {},
   "outputs": [],
   "source": [
    "# Set cwd in github \n",
    "this_cwd = Path('/home/anarinsk/github/simsangjung') \n",
    "this_github = 'http://raw.githubusercontent.com/anarinsk/simsangjung/master/raw_data/'\n",
    "# 0: 이자, 1: 배당 \n",
    "baedang_ija_2016 = this_github + 'BaeDangSoDeuk+IJaSoDeuk+CheonBunWi.xlsx'\n",
    "# 0: 2015년, 1: 2014년, 2: 2013년 \n",
    "geunro_2013_2015 = this_github + 'GeunRoSoDeukCheonBunWi.xlsx'\n",
    "geunro_2016 = this_github + 'GeunRoSoDeukCheonBunWi2016Nyeon.xlsx'\n",
    "\n",
    "# Load into padas DataFrame \n",
    "\n",
    "def load_xlsx(filename, sheet, col_names, skip=5):\n",
    "    return pd.read_excel(filename, sheet_name=sheet, names=col_names, \n",
    "                  skiprows=skip, index_col=None, header=None)\n",
    "\n",
    "#pd.read_excel(baedang_ija_2016, sheet_name=0, skiprows=0, index_col=None, header=None)\n",
    "#pd.read_excel(geunro_2016, sheet_name=0, skiprows=0, index_col=None, header=None)\n",
    "\n",
    "df1 = load_xlsx(baedang_ija_2016, 0, ['quintile', 'n', 'income', 'tax'])\n",
    "df2 = load_xlsx(baedang_ija_2016, 1, ['quintile', 'n', 'income', 'tax'])\n",
    "df3 = load_xlsx(geunro_2016, 0, ['quintile', 'n', 'total','income', 'dedection', 'standard', 'tax'])\n",
    "df4 = load_xlsx(geunro_2013_2015, 0, ['quintile', 'n', 'total','income', 'dedection', 'standard', 'tax'])\n",
    "df5 = load_xlsx(geunro_2013_2015, 1, ['quintile', 'n', 'total','income', 'dedection', 'standard', 'tax'])\n",
    "df6 = load_xlsx(geunro_2013_2015, 2, ['quintile', 'n', 'total','income', 'dedection', 'standard', 'tax'])"
   ]
  },
  {
   "cell_type": "code",
   "execution_count": 3,
   "metadata": {},
   "outputs": [],
   "source": [
    "# Define some functions \n",
    "\n",
    "def my_tidy(df, year, cat, do_melt=False): \n",
    "    df['year'] = year \n",
    "    df['cat'] = cat \n",
    "    df['quintile'] = range(1,1001, 1)   \n",
    "    \n",
    "    if do_melt == False:\n",
    "        return df\n",
    "    else: \n",
    "        return pd.melt(df, id_vars=['quintile', 'year', 'cat'])\n",
    "    \n",
    "def make_full_df(do_melt=False): \n",
    "    res = [my_tidy(d, y, c, do_melt) for d,y,c in \n",
    "               [[df1, 2016, \"interest\"], [df2, 2016, \"dividends\"], \n",
    "                [df3, 2016, \"work\"], [df4, 2015, \"work\"], [df5, 2014, \"work\"], [df6, 2013, \"work\"]]\n",
    "        ]\n",
    "    return pd.concat(res)"
   ]
  },
  {
   "cell_type": "code",
   "execution_count": 4,
   "metadata": {},
   "outputs": [
    {
     "name": "stderr",
     "output_type": "stream",
     "text": [
      "/home/anarinsk/miniconda3/envs/withr/lib/python3.6/site-packages/ipykernel/__main__.py:18: FutureWarning: Sorting because non-concatenation axis is not aligned. A future version\n",
      "of pandas will change to not sort by default.\n",
      "\n",
      "To accept the future behavior, pass 'sort=False'.\n",
      "\n",
      "To retain the current behavior and silence the warning, pass 'sort=True'.\n",
      "\n"
     ]
    }
   ],
   "source": [
    "df_melt = make_full_df(True)\n",
    "df_melt.reset_index(inplace=True) \n",
    "\n",
    "df_pivot = make_full_df(False)\n",
    "df_pivot.reset_index(inplace=True) \n",
    "\n",
    "# save to csv \n",
    "\n",
    "df_melt.to_csv(this_cwd/'csv'/'melt.csv')\n",
    "df_pivot.to_csv(this_cwd/'csv'/'pivot.csv')\n",
    "\n",
    "# Our working df \n",
    "df = df_melt \n",
    "\n",
    "# Set default dir \n",
    "os.chdir(this_cwd)"
   ]
  },
  {
   "cell_type": "markdown",
   "metadata": {},
   "source": [
    "# Some Poor EDA(Explantory Data Analysis) \n",
    "\n",
    "* 그래프는 R의 ggplot2를 임포트해서 그렸다. 몇가지 코멘트는 아래 코드와 결과 사이에 남기도록 한다. \n",
    "* 조세자료지만, 일단 소득원(income 컬럼)에 관해서면 살펴보았다. 조세 자료에 관한 보다 세밀한 분석은 나중에 누군가가 더 잘 해주겠지. "
   ]
  },
  {
   "cell_type": "code",
   "execution_count": 5,
   "metadata": {},
   "outputs": [
    {
     "name": "stdout",
     "output_type": "stream",
     "text": [
      "<class 'pandas.core.frame.DataFrame'>\n",
      "RangeIndex: 30000 entries, 0 to 29999\n",
      "Data columns (total 6 columns):\n",
      "index       30000 non-null int64\n",
      "quintile    30000 non-null int64\n",
      "year        30000 non-null int64\n",
      "cat         30000 non-null object\n",
      "variable    30000 non-null object\n",
      "value       30000 non-null float64\n",
      "dtypes: float64(1), int64(3), object(2)\n",
      "memory usage: 1.4+ MB\n"
     ]
    }
   ],
   "source": [
    "df.info()"
   ]
  },
  {
   "cell_type": "code",
   "execution_count": 6,
   "metadata": {},
   "outputs": [],
   "source": [
    "### Start with kernel withr \n",
    "import warnings\n",
    "warnings.filterwarnings('ignore')\n",
    "import os\n",
    "import rpy2.rinterface\n",
    "os.environ.get(\"R_HOME\")\n",
    "#os.environ['R_HOME'] = '/usr/lib/R'\n",
    "%reload_ext rpy2.ipython"
   ]
  },
  {
   "cell_type": "code",
   "execution_count": 7,
   "metadata": {},
   "outputs": [],
   "source": [
    "%%R \n",
    "librarian::shelf(tidyverse, DescTools, ggsci, ggthemes, showtext)       "
   ]
  },
  {
   "cell_type": "code",
   "execution_count": 8,
   "metadata": {},
   "outputs": [],
   "source": [
    "%%R -i df\n",
    "readRDS('./rds/df.rds') %>% \n",
    "  select(-index) %>% \n",
    "  group_by(year, cat) %>% \n",
    "  mutate(\n",
    "    q1000 = 1001 - as.integer(quintile), \n",
    "    q100 = 101 - (cut(quintile, breaks = 100) %>% as.integer()),\n",
    "    q10 = 11 - (cut(quintile, breaks = 10) %>% as.integer())\n",
    "    ) %>% \n",
    "  select(-quintile) -> tbl \n",
    "\n",
    "tbl %>% \n",
    "  filter(variable == 'income') %>% \n",
    "  group_by(year, cat) %>% \n",
    "  summarise(sum_yearcat = sum(value)) -> tbl2\n",
    "\n",
    "tbl %>% \n",
    "  filter(variable == 'n') %>% \n",
    "  select(q1000, year, cat, value) %>% \n",
    "  rename(n = value) -> tbl3\n",
    "\n",
    "tbl %>% \n",
    "  filter(variable == \"income\") %>% \n",
    "  left_join(tbl2, by = c(\"year\", \"cat\")) %>% \n",
    "  left_join(tbl3, by = c('q1000', 'year', 'cat')) %>% \n",
    "  select(-variable) %>% \n",
    "  rename(income = value) -> income "
   ]
  },
  {
   "cell_type": "code",
   "execution_count": 9,
   "metadata": {},
   "outputs": [],
   "source": [
    "%%R\n",
    "font_add_google(\"Gothic A1\", \"ga1\")\n",
    "\n",
    "df_by_q <- function(var,is_work, df=income){\n",
    "  \n",
    "  if(is_work == T){\n",
    "    df <- df %>% filter(cat == \"work\")\n",
    "  } else {\n",
    "    df <- df %>% filter(year == 2016)\n",
    "  }\n",
    "  var_enq = enquo(var)\n",
    "  df %>% \n",
    "    group_by(year, cat, !!var_enq) %>% \n",
    "    summarise(\n",
    "      value = sum(income), \n",
    "      share = value / first(sum_yearcat),  \n",
    "      mean = value / sum(n)\n",
    "    )\n",
    "}\n",
    "#\n",
    "generate_2016_q <- function(var){\n",
    "  \n",
    "  var_enq <- enquo(var)\n",
    "  str_extract_all(deparse(substitute(var)), \"[0-9]\") %>% \n",
    "    unlist() %>%  \n",
    "    str_c(collapse=\"\") -> title\n",
    "    \n",
    "  as.integer(title) -> n_q\n",
    "  seq(n_q-9, n_q, 1) -> seq_q\n",
    "  \n",
    "  showtext_auto()\n",
    "  df_by_q(!!var_enq, F) %>% \n",
    "  filter(!!var_enq %in% seq_q) %>% \n",
    "  ggplot() + \n",
    "  aes(x = factor(!!var_enq), y = share * 100) + \n",
    "  geom_col(width = 0.7) +\n",
    "  scale_x_discrete(labels = as.character(seq_q)) +\n",
    "  facet_grid(rows = vars(cat)) + \n",
    "  labs(\n",
    "    title = str_glue(\"2016년 소득원천별 점유율 (상위 10개 분위, {title}분위 기준)\"),  y = \"비율 %\", x = \"분위\") + \n",
    "  theme_bw() + \n",
    "    theme(text = element_text(size = 10, family = \"ga1\")) \n",
    "}\n",
    "#\n",
    "generate_work_q <- function(var, q = seq_len(10)){\n",
    "  var_enq <- enquo(var)\n",
    "  str_extract_all(deparse(substitute(var)), \"[0-9]\") %>% \n",
    "    unlist() %>%  \n",
    "    str_c(collapse=\"\") -> title\n",
    "  \n",
    "  showtext_auto()\n",
    "    \n",
    "  df_by_q(!!var_enq, T) %>% \n",
    "    filter(!!var_enq %in% q) %>% \n",
    "    ggplot() + \n",
    "    aes(x = year, y = share * 100, fill = factor(!!var_enq)) + \n",
    "    geom_col(width = 0.7) + \n",
    "    scale_x_discrete(limits=c(2013,2014,2015,2016)) + \n",
    "    theme_bw() + \n",
    "    scale_fill_simpsons(name = \"분위\") + \n",
    "    labs(\n",
    "      title = str_glue(\"근로소득 {title}분위별 분배 변화 (2013--2016)\"),\n",
    "      x = \"년도\", \n",
    "      y = \"누적 %\"\n",
    "    ) + \n",
    "    theme(text = element_text(size = 10, family = \"ga1\"))  \n",
    "}"
   ]
  },
  {
   "cell_type": "markdown",
   "metadata": {},
   "source": [
    "# 분위별 분석 \n",
    "\n",
    "* 심상정 의원의 자료로 살펴볼 수 있는 축은 두가지다. \n",
    "    * 하나는 배당소득, 이자소득, 근로소득을 비교하는 것이다. 이 자료는 2016년 자료만 제공되었다. \n",
    "    * 다른 하나는 2013년부터 2016년까지 4개 연도의 근로 소득을 비교하는 것이다. "
   ]
  },
  {
   "cell_type": "markdown",
   "metadata": {},
   "source": [
    "## 2016년 소득 종류별 비교 \n",
    "\n",
    "* 단위는 억 원 \n",
    "* 일단 백분위를 십분위로 압축해서 종류별 소득의 규모를 살펴보자. \n",
    "* 아래 표에서 dividends는 배당소득, interest는 이자소득 그리고 work는 근로소득을 의미한다. \n",
    "* q1000은 천분위(원자료),  q100은 백분위 그리고 q10는 10분위로 자료를 재정리한 것이다. \n",
    "    * 작은 숫자일수록 많은 소득을 누리는 분위를 의미한다.  \n",
    "* income은 각 종류별 소득의 분위합, n은 해당 구간의 샘플 수다. \n",
    "* 분위에 속한 인원이 소득 종류별로 다르기 때문에 평균 소득액을 같이 살펴보았다. \n",
    "    * 예상대로 배당소득의 크기가 어마어마하고 이자소득의 크기 역시 상당하다. \n",
    "* 참고로 각 소득 종류별로 10분위 기준 상위 5개 구간의 소득 총액 및 1인당 평균을 살펴보면 아래의 표와 같다. "
   ]
  },
  {
   "cell_type": "code",
   "execution_count": 10,
   "metadata": {},
   "outputs": [
    {
     "data": {
      "text/plain": [
       "\n",
       "\n",
       "|cat       | q10|      income|       n|mean     |\n",
       "|:---------|---:|-----------:|-------:|:--------|\n",
       "|dividends |  10| 13302677938|  891562|14920.64 |\n",
       "|dividends |   9|   488018438|  891562|547.37   |\n",
       "|dividends |   8|   173778883|  891562|194.92   |\n",
       "|dividends |   7|    72608314|  891563|81.44    |\n",
       "|dividends |   6|    30429304|  891562|34.13    |\n",
       "|interest  |  10| 12793722712| 5208356|2456.38  |\n",
       "|interest  |   9|   969080202| 5208356|186.06   |\n",
       "|interest  |   8|   204303848| 5208356|39.23    |\n",
       "|interest  |   7|    69804233| 5208357|13.40    |\n",
       "|interest  |   6|    32510954| 5208356|6.24     |\n",
       "|work      |  10|     1658211| 1774009|0.93     |\n",
       "|work      |   9|      848212| 1774010|0.48     |\n",
       "|work      |   8|      581065| 1774010|0.33     |\n",
       "|work      |   7|      425143| 1774010|0.24     |\n",
       "|work      |   6|      314455| 1774010|0.18     |\n"
      ]
     },
     "metadata": {},
     "output_type": "display_data"
    }
   ],
   "source": [
    "%%R\n",
    "income %>% \n",
    "  filter(year == 2016) %>% \n",
    "  group_by(cat, q10) %>%\n",
    "  filter(q10 %in% c(10, 9, 8, 7, 6)) %>% \n",
    "  summarise(\n",
    "    income2 = sum(income), \n",
    "    n2 = sum(n), \n",
    "    mean = (income2/n2) %>% sprintf(\"%#.2f\", .)\n",
    "  ) %>% \n",
    "  rename(\n",
    "    income = income2, \n",
    "    n = n2\n",
    "  ) %>% \n",
    "  arrange(cat, desc(q10)) %>% \n",
    "  knitr::kable()"
   ]
  },
  {
   "cell_type": "markdown",
   "metadata": {},
   "source": [
    "### 1000분위,100분위, 10분위 기준 원천별 소득 점유율 비교 \n",
    "\n",
    "* 아래 세 개의 그림들을 보시면 함의는 명확하다. \n",
    "    * 아래 세 개의 그림은 각각 1000분위, 100분위, 10분위에서 상위 10개의 분위가 차지하는 비율을 나타낸 것이다.  \n",
    "* 배당 소득의 경우 상위 0.1%(1/1000)가 2016년 배당소득의 50%이상을 차지하고 있다. 1%는 약 85%, 10%는 약 95%다.  \n",
    "* 이자는 그보다는 덜하지만 편중되어 있다. \n",
    "* 이에 비하면 근로소득의 상위 점유율은 미미한 편이다. "
   ]
  },
  {
   "cell_type": "code",
   "execution_count": 11,
   "metadata": {},
   "outputs": [
    {
     "data": {
      "image/png": "[encoded data removed]"
     },
     "metadata": {},
     "output_type": "display_data"
    }
   ],
   "source": [
    "%%R\n",
    "generate_2016_q(q1000)"
   ]
  },
  {
   "cell_type": "code",
   "execution_count": 12,
   "metadata": {},
   "outputs": [
    {
     "data": {
      "image/png": "[encoded data removed]"
     },
     "metadata": {},
     "output_type": "display_data"
    }
   ],
   "source": [
    "%%R \n",
    "generate_2016_q(q100)"
   ]
  },
  {
   "cell_type": "code",
   "execution_count": 13,
   "metadata": {},
   "outputs": [
    {
     "data": {
      "image/png": "[encoded data removed]"
     },
     "metadata": {},
     "output_type": "display_data"
    }
   ],
   "source": [
    "%%R \n",
    "generate_2016_q(q10)"
   ]
  },
  {
   "cell_type": "markdown",
   "metadata": {},
   "source": [
    "### 소득 종류별 지니계수 \n",
    "\n",
    "* 각 소득원천별로 지니계수를 계산해 보자. \n",
    "* 근로소득에 비해서 배당소득과 이자소득은 '압도적으로' 불평등하다. 플로우의 누적합인 스톡, 즉 자산 불평등을 계산해 봤으면 싶은 마음이 드는 대목이다. "
   ]
  },
  {
   "cell_type": "code",
   "execution_count": 14,
   "metadata": {},
   "outputs": [
    {
     "data": {
      "text/plain": [
       "\n",
       "\n",
       "| year|cat       |gini |\n",
       "|----:|:---------|:----|\n",
       "| 2016|dividends |0.96 |\n",
       "| 2016|interest  |0.93 |\n",
       "| 2016|work      |0.55 |\n"
      ]
     },
     "metadata": {},
     "output_type": "display_data"
    }
   ],
   "source": [
    "%%R \n",
    "df_by_q(q1000, F) %>% \n",
    "  summarise(\n",
    "    gini = Gini(value) %>% sprintf(\"%#.2f\", .)\n",
    "  ) %>% \n",
    "  knitr::kable()"
   ]
  },
  {
   "cell_type": "markdown",
   "metadata": {},
   "source": [
    "## 근로소득의 변화 \n",
    "\n",
    "* 시각화했을 때 100분위, 1000분위는 다소 애로사항이 있다. 솔루션을 찾을 수 있다면 추후에 다시 해보도록 하자. \n",
    "* 아래는 근로소득의 10분위 분배의 변화를 시각화한 것이다.\n",
    "* 일단 2013년에서 2014년 사이에 하위 분위에서 점유율 증가가 눈에 들어온다. 통계작성의 변화 등이 없었다면, 꽤 주목할만한 변화다. \n",
    "    * 박근혜 정권이라고 나쁜 일만 했겠는가...\n",
    "    * 좌간 하위 계층 복지에 있어서 집계든 실질 혜택이든 나름의 변화가 감지되는 시기인 듯. "
   ]
  },
  {
   "cell_type": "code",
   "execution_count": 15,
   "metadata": {},
   "outputs": [
    {
     "data": {
      "image/png": "[encoded data removed]"
     },
     "metadata": {},
     "output_type": "display_data"
    }
   ],
   "source": [
    "%%R\n",
    "generate_work_q(q10)"
   ]
  },
  {
   "cell_type": "markdown",
   "metadata": {},
   "source": [
    "* 하위 5개 분위(1~5 분위)의 변화를 보다 자세하게 보면 아래와 같다. 각 분위 모두 고르게 증가했음을 알 수 있다. "
   ]
  },
  {
   "cell_type": "code",
   "execution_count": 16,
   "metadata": {},
   "outputs": [
    {
     "data": {
      "image/png": "[encoded data removed]"
     },
     "metadata": {},
     "output_type": "display_data"
    }
   ],
   "source": [
    "%%R\n",
    "generate_work_q(q10, seq(1,5,1))"
   ]
  },
  {
   "cell_type": "markdown",
   "metadata": {},
   "source": [
    "* 근로소득의 지니계수 변화 역시 같은 방향을 보여준다. 2013년의 0.59에서 2014년의 0.56으로 크게 낮아졌고, 이후는 추세가 유지되고 있다.  "
   ]
  },
  {
   "cell_type": "code",
   "execution_count": 17,
   "metadata": {},
   "outputs": [
    {
     "data": {
      "text/plain": [
       "\n",
       "\n",
       "| year|cat  |gini |\n",
       "|----:|:----|:----|\n",
       "| 2013|work |0.59 |\n",
       "| 2014|work |0.56 |\n",
       "| 2015|work |0.56 |\n",
       "| 2016|work |0.55 |\n"
      ]
     },
     "metadata": {},
     "output_type": "display_data"
    }
   ],
   "source": [
    "%%R\n",
    "df_by_q(q1000, T) %>% \n",
    "  summarise(\n",
    "    gini = Gini(value) %>% sprintf(\"%#.2f\", .)\n",
    "  ) %>% \n",
    "  knitr::kable()"
   ]
  },
  {
   "cell_type": "markdown",
   "metadata": {},
   "source": [
    "# The end of document "
   ]
  }
 ],
 "metadata": {
  "kernelspec": {
   "display_name": "Python [conda env:withr]",
   "language": "python",
   "name": "conda-env-withr-py"
  },
  "language_info": {
   "codemirror_mode": {
    "name": "ipython",
    "version": 3
   },
   "file_extension": ".py",
   "mimetype": "text/x-python",
   "name": "python",
   "nbconvert_exporter": "python",
   "pygments_lexer": "ipython3",
   "version": "3.6.6"
  },
  "latex_envs": {
   "LaTeX_envs_menu_present": true,
   "autoclose": false,
   "autocomplete": true,
   "bibliofile": "biblio.bib",
   "cite_by": "apalike",
   "current_citInitial": 1,
   "eqLabelWithNumbers": true,
   "eqNumInitial": 1,
   "hotkeys": {
    "equation": "Ctrl-E",
    "itemize": "Ctrl-I"
   },
   "labels_anchors": false,
   "latex_user_defs": false,
   "report_style_numbering": false,
   "user_envs_cfg": false
  },
  "toc": {
   "base_numbering": 1,
   "nav_menu": {},
   "number_sections": true,
   "sideBar": true,
   "skip_h1_title": false,
   "title_cell": "Table of Contents",
   "title_sidebar": "Contents",
   "toc_cell": false,
   "toc_position": {},
   "toc_section_display": true,
   "toc_window_display": false
  }
 },
 "nbformat": 4,
 "nbformat_minor": 2
}
